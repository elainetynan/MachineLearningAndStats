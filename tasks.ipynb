{
 "cells": [
  {
   "cell_type": "markdown",
   "metadata": {},
   "source": [
    "<h1 style=\"color:#034e7d; font-size:50px; font-family:MV Boli; text-align:center;\">Tasks Notebook</h1>"
   ]
  },
  {
   "cell_type": "markdown",
   "metadata": {},
   "source": [
    "<h1 style=\"color:#595959; font-size:46px; font-family:MV Boli; text-align:center;\">Task 1</h1>"
   ]
  },
  {
   "cell_type": "markdown",
   "metadata": {},
   "source": [
    "Square roots are difficult to calculate. In Python, you typically use the power operator (a double asterisk) or a package such as math. In this task, you should write a function `sqrt(x)` to approximate the square root of a floating point number x without using the power operator or a package.\n",
    "Rather, you should use the Newton’s method. Start with an initial guess for the square root called $z_{0}$. You then repeatedly improve it using the following formula, until the difference between some previous guess $z_{i}$ and the next $z_{i+1}$ is less than some threshold, say $0.01$.\n",
    "\n",
    "$$ z_{i+1} = z_i - \\frac{z_i \\times z_i - x}{2z_i} $$"
   ]
  },
  {
   "cell_type": "markdown",
   "metadata": {},
   "source": [
    "## Sqrt\n",
    "\n",
    "Calculating the square root to within 0.01 of the exact square root."
   ]
  },
  {
   "cell_type": "code",
   "execution_count": 1,
   "metadata": {},
   "outputs": [
    {
     "data": {
      "text/plain": [
       "5.099037252729456"
      ]
     },
     "execution_count": 1,
     "metadata": {},
     "output_type": "execute_result"
    }
   ],
   "source": [
    "def sqrt(x):\n",
    "    # Starting out with an inital guess of half the value as the square\n",
    "    # root must be smaller than the value\n",
    "    z1 = 0.5*x\n",
    "\n",
    "    # Refine the guess and compare the 2 values repeatedly until they\n",
    "    # are within 0.01 of each other.\n",
    "    z2 = z1 - (((z1 * z1) - x) / (2 * z1))\n",
    "    while z2 < z1-0.01 or z2 > z1+0.01:\n",
    "        z1 = z2\n",
    "        z2 = z1 - (((z1 * z1) - x) / (2 * z1))\n",
    "    \n",
    "    return z1\n",
    "\n",
    "sqrt(26)"
   ]
  },
  {
   "cell_type": "markdown",
   "metadata": {},
   "source": [
    "This function (sqrt2) calculates the square root to  the exact square root."
   ]
  },
  {
   "cell_type": "code",
   "execution_count": 2,
   "metadata": {},
   "outputs": [
    {
     "data": {
      "text/plain": [
       "5.0990195135927845"
      ]
     },
     "execution_count": 2,
     "metadata": {},
     "output_type": "execute_result"
    }
   ],
   "source": [
    "def sqrt2(x):\n",
    "    z1 = 0.5*x # Initial guess\n",
    "    z2 = z1 - (((z1 * z1) - x) / (2 * z1))\n",
    "    while z2 != z1:\n",
    "        z1 = z2\n",
    "        z2 = z1 - (((z1 * z1) - x) / (2 * z1))\n",
    "    \n",
    "    return z1\n",
    "\n",
    "sqrt2(26)"
   ]
  },
  {
   "cell_type": "markdown",
   "metadata": {},
   "source": [
    "Verifying the answer with the actual square root"
   ]
  },
  {
   "cell_type": "code",
   "execution_count": 3,
   "metadata": {},
   "outputs": [
    {
     "data": {
      "text/plain": [
       "5.0990195135927845"
      ]
     },
     "execution_count": 3,
     "metadata": {},
     "output_type": "execute_result"
    }
   ],
   "source": [
    "26**0.5"
   ]
  },
  {
   "cell_type": "markdown",
   "metadata": {},
   "source": [
    "## End Task 1\n",
    "***"
   ]
  }
 ],
 "metadata": {
  "kernelspec": {
   "display_name": "Python 3 (ipykernel)",
   "language": "python",
   "name": "python3"
  },
  "language_info": {
   "codemirror_mode": {
    "name": "ipython",
    "version": 3
   },
   "file_extension": ".py",
   "mimetype": "text/x-python",
   "name": "python",
   "nbconvert_exporter": "python",
   "pygments_lexer": "ipython3",
   "version": "3.9.13"
  }
 },
 "nbformat": 4,
 "nbformat_minor": 2
}
